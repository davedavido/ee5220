{
 "cells": [
  {
   "cell_type": "markdown",
   "id": "packed-family",
   "metadata": {},
   "source": [
    "# Template 1\n",
    "\n",
    "Dieses Template startet mit den wichtigsten Bibliotheken und Einstellungen für eigene Signalverarbeitungsprojekte."
   ]
  },
  {
   "cell_type": "code",
   "execution_count": null,
   "id": "incident-worth",
   "metadata": {},
   "outputs": [],
   "source": [
    "import numpy as np\n",
    "import matplotlib.pyplot as plt\n",
    "import scipy.signal\n",
    "\n",
    "%matplotlib inline\n",
    "%config InlineBackend.figure_format = 'retina'"
   ]
  }
 ],
 "metadata": {
  "kernelspec": {
   "display_name": "Python 3 (ipykernel)",
   "language": "python",
   "name": "python3"
  },
  "language_info": {
   "codemirror_mode": {
    "name": "ipython",
    "version": 3
   },
   "file_extension": ".py",
   "mimetype": "text/x-python",
   "name": "python",
   "nbconvert_exporter": "python",
   "pygments_lexer": "ipython3",
   "version": "3.8.12"
  }
 },
 "nbformat": 4,
 "nbformat_minor": 5
}
