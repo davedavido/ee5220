{
 "cells": [
  {
   "cell_type": "markdown",
   "id": "95c5cfba-de12-4b7b-82ea-faa242532472",
   "metadata": {},
   "source": [
    "# Demo: Faltung"
   ]
  },
  {
   "cell_type": "code",
   "execution_count": 1,
   "id": "8705ab60-c496-4e98-832e-b17ac26f1868",
   "metadata": {},
   "outputs": [
    {
     "ename": "ModuleNotFoundError",
     "evalue": "No module named 'librosa'",
     "output_type": "error",
     "traceback": [
      "\u001b[0;31m---------------------------------------------------------------------------\u001b[0m",
      "\u001b[0;31mModuleNotFoundError\u001b[0m                       Traceback (most recent call last)",
      "\u001b[0;32m<ipython-input-1-962e642286d2>\u001b[0m in \u001b[0;36m<module>\u001b[0;34m\u001b[0m\n\u001b[1;32m      2\u001b[0m \u001b[0;32mimport\u001b[0m \u001b[0mmatplotlib\u001b[0m\u001b[0;34m.\u001b[0m\u001b[0mpyplot\u001b[0m \u001b[0;32mas\u001b[0m \u001b[0mplt\u001b[0m\u001b[0;34m\u001b[0m\u001b[0;34m\u001b[0m\u001b[0m\n\u001b[1;32m      3\u001b[0m \u001b[0;34m\u001b[0m\u001b[0m\n\u001b[0;32m----> 4\u001b[0;31m \u001b[0;32mimport\u001b[0m \u001b[0mlibrosa\u001b[0m\u001b[0;34m.\u001b[0m\u001b[0mdisplay\u001b[0m\u001b[0;34m\u001b[0m\u001b[0;34m\u001b[0m\u001b[0m\n\u001b[0m\u001b[1;32m      5\u001b[0m \u001b[0;32mfrom\u001b[0m \u001b[0mIPython\u001b[0m\u001b[0;34m.\u001b[0m\u001b[0mdisplay\u001b[0m \u001b[0;32mimport\u001b[0m \u001b[0mAudio\u001b[0m\u001b[0;34m\u001b[0m\u001b[0;34m\u001b[0m\u001b[0m\n\u001b[1;32m      6\u001b[0m \u001b[0;34m\u001b[0m\u001b[0m\n",
      "\u001b[0;31mModuleNotFoundError\u001b[0m: No module named 'librosa'"
     ]
    }
   ],
   "source": [
    "import numpy as np\n",
    "import matplotlib.pyplot as plt\n",
    "\n",
    "import librosa.display\n",
    "from IPython.display import Audio\n",
    "\n",
    "%matplotlib inline\n",
    "%config InlineBackend.figure_format = 'retina'"
   ]
  },
  {
   "cell_type": "markdown",
   "id": "5039815c-4801-4880-b27a-02c36bb32c36",
   "metadata": {},
   "source": [
    "## Gunshot-Sound"
   ]
  },
  {
   "cell_type": "code",
   "execution_count": null,
   "id": "b9b11c88-968d-47f9-a729-c73882923d24",
   "metadata": {},
   "outputs": [],
   "source": [
    "gunshot, gunshot_fs = librosa.load('../data/gunshot.wav')\n",
    "\n",
    "# Anzeige Abtastrate und Anzahl der Samples\n",
    "print(\"Abtastrate (Hz): %d\" % gunshot_fs)\n",
    "print(\"Anzahl Samples: %d\" % gunshot.shape[0])"
   ]
  },
  {
   "cell_type": "code",
   "execution_count": null,
   "id": "527841e9-6d79-42b1-8030-d7c52d9cec70",
   "metadata": {},
   "outputs": [],
   "source": [
    "t = np.arange(0, gunshot.shape[0]/gunshot_fs, 1/gunshot_fs);\n",
    "\n",
    "plt.figure(figsize=(14,5))\n",
    "plt.plot(t, gunshot)\n",
    "plt.xlabel('Zeit [Sek.]');\n",
    "plt.ylabel('Amplitude (norm.)');\n",
    "plt.grid(True);\n",
    "\n",
    "Audio(gunshot, rate=gunshot_fs)"
   ]
  },
  {
   "cell_type": "markdown",
   "id": "f8b27eab-e041-453f-8d03-4f05c2da1a2c",
   "metadata": {},
   "source": [
    "## Violine"
   ]
  },
  {
   "cell_type": "code",
   "execution_count": null,
   "id": "1885c1a2-206e-45d5-bb86-67e22cd47a9f",
   "metadata": {},
   "outputs": [],
   "source": [
    "violin, violin_fs = librosa.load('../data/violin.wav')\n",
    "\n",
    "print(\"Abtastrate (Hz): %d\" % violin_fs)\n",
    "print(\"Anzahl Samples: %d\" % violin.shape[0])"
   ]
  },
  {
   "cell_type": "code",
   "execution_count": null,
   "id": "bb44d7c7-7826-44a1-b2d6-14e041672134",
   "metadata": {},
   "outputs": [],
   "source": [
    "t = np.arange(0, violin.shape[0]/violin_fs, 1/violin_fs);\n",
    "\n",
    "plt.figure(figsize=(14,5))\n",
    "plt.plot(t, violin)\n",
    "plt.xlabel('Zeit [Sek.]');\n",
    "plt.ylabel('Amplitude (norm.)');\n",
    "plt.grid(True);\n",
    "\n",
    "Audio(violin, rate=violin_fs)"
   ]
  },
  {
   "cell_type": "markdown",
   "id": "e080c39c-f3af-4e9a-9ffb-852e78b380da",
   "metadata": {},
   "source": [
    "## Faltung des Violinen-Sounds mit Gunshot"
   ]
  },
  {
   "cell_type": "code",
   "execution_count": null,
   "id": "4a38cdad-d585-4910-a947-88794bd1ec46",
   "metadata": {},
   "outputs": [],
   "source": [
    "violin_gunshot = np.convolve(violin, gunshot)\n",
    "\n",
    "t = np.arange(0, violin_gunshot.shape[0]/violin_fs, 1/violin_fs);\n",
    "\n",
    "plt.figure(figsize=(14,5))\n",
    "plt.plot(t, violin_gunshot)\n",
    "plt.title('Violine FX (%d Hz)' % violin_fs)\n",
    "plt.xlabel('Zeit [Sek.]');\n",
    "plt.ylabel('Amplitude (norm.)');\n",
    "plt.grid(True);\n",
    "\n",
    "Audio(violin_gunshot, rate=violin_fs)"
   ]
  },
  {
   "cell_type": "markdown",
   "id": "eea4bf8b-53c8-4a6b-a649-e62b48d8612b",
   "metadata": {},
   "source": [
    "# Faltung mit alternativem Sound"
   ]
  },
  {
   "cell_type": "code",
   "execution_count": null,
   "id": "093ea6eb-8771-4ecb-af07-262649b2cd25",
   "metadata": {},
   "outputs": [],
   "source": [
    "sound, sound_fs = librosa.load('../data/audio/HumanVoice_TestHelloCount1_16bit_44.1kHz_mono.wav')\n",
    "print(\"Abtastrate: %d\" % sound_fs);\n",
    "\n",
    "Audio(sound, rate=sound_fs)"
   ]
  },
  {
   "cell_type": "code",
   "execution_count": null,
   "id": "cb0e4c98-a805-4075-a278-2c2055becdd8",
   "metadata": {},
   "outputs": [],
   "source": [
    "sound_gunshot = np.convolve(sound, gunshot)\n",
    "Audio(sound_gunshot, rate=sound_fs)"
   ]
  },
  {
   "cell_type": "markdown",
   "id": "de890bb6-439c-40e3-b97c-3215a95567b4",
   "metadata": {},
   "source": [
    "## Alternative Raumeigenschaften (Impulsantwort) laden"
   ]
  },
  {
   "cell_type": "code",
   "execution_count": null,
   "id": "de926877-3252-4ede-8864-319bdd2734ba",
   "metadata": {},
   "outputs": [],
   "source": [
    "shotgun, shotgun_fs = librosa.load('../data/shotgun.wav')\n",
    "\n",
    "print(\"Abtastrate: %d\" % shotgun_fs);\n",
    "\n",
    "t = np.arange(0, shotgun.shape[0]/shotgun_fs, 1/shotgun_fs);\n",
    "\n",
    "plt.figure(figsize=(14,5))\n",
    "plt.plot(t, shotgun)\n",
    "plt.title('Shotgun (%d Hz)' % shotgun_fs)\n",
    "plt.xlabel('Zeit [Sek.]');\n",
    "plt.ylabel('Amplitude (norm.)');\n",
    "plt.grid(True);\n",
    "\n",
    "Audio(shotgut, rate=shotgun_fs)"
   ]
  },
  {
   "cell_type": "code",
   "execution_count": null,
   "id": "6cfa715c-d3dd-476c-90d6-63bc0d51eb4d",
   "metadata": {},
   "outputs": [],
   "source": [
    "sound_shotgun = np.convolve(sound, shotgun)\n",
    "Audio(sound_shotgun, rate=sound_fs)"
   ]
  }
 ],
 "metadata": {
  "kernelspec": {
   "display_name": "Python 3",
   "language": "python",
   "name": "python3"
  },
  "language_info": {
   "codemirror_mode": {
    "name": "ipython",
    "version": 3
   },
   "file_extension": ".py",
   "mimetype": "text/x-python",
   "name": "python",
   "nbconvert_exporter": "python",
   "pygments_lexer": "ipython3",
   "version": "3.8.8"
  }
 },
 "nbformat": 4,
 "nbformat_minor": 5
}
